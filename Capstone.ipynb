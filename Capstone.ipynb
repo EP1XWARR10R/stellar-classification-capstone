{
 "cells": [
  {
   "cell_type": "code",
   "execution_count": null,
   "id": "f3f19e03",
   "metadata": {},
   "outputs": [],
   "source": [
    "# Installing dependencies\n",
    "# In my development environment, I use a virtual environment therefore I use % instead of !\n",
    "%pip install kagglehub"
   ]
  },
  {
   "cell_type": "code",
   "execution_count": null,
   "id": "67fba98c",
   "metadata": {},
   "outputs": [],
   "source": [
    "# Importing dependencies\n",
    "import kagglehub\n"
   ]
  },
  {
   "cell_type": "code",
   "execution_count": null,
   "id": "633aa5b6",
   "metadata": {},
   "outputs": [],
   "source": [
    "# Downloading the latest version of the dataset from Kaggle\n",
    "dataset_path = kagglehub.dataset_download(\"fedesoriano/stellar-classification-dataset-sdss17\")\n",
    "\n",
    "print(\"Path to dataset files:\", dataset_path)"
   ]
  }
 ],
 "metadata": {
  "kernelspec": {
   "display_name": "Python 3",
   "language": "python",
   "name": "python3"
  },
  "language_info": {
   "codemirror_mode": {
    "name": "ipython",
    "version": 3
   },
   "file_extension": ".py",
   "mimetype": "text/x-python",
   "name": "python",
   "nbconvert_exporter": "python",
   "pygments_lexer": "ipython3",
   "version": "3.12.3"
  }
 },
 "nbformat": 4,
 "nbformat_minor": 5
}
